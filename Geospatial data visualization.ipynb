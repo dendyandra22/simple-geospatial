{
 "cells": [
  {
   "cell_type": "markdown",
   "metadata": {},
   "source": [
    "# Visualisasi Geospatial Data Covid-19 di Indonesia\n",
    "Dendy Andra A.N - 1301184280 <br>\n",
    "IF-42-GAB01"
   ]
  },
  {
   "cell_type": "code",
   "execution_count": 1,
   "metadata": {},
   "outputs": [
    {
     "ename": "ModuleNotFoundError",
     "evalue": "No module named 'geoplot'",
     "output_type": "error",
     "traceback": [
      "\u001b[1;31m---------------------------------------------------------------------------\u001b[0m",
      "\u001b[1;31mModuleNotFoundError\u001b[0m                       Traceback (most recent call last)",
      "\u001b[1;32m<ipython-input-1-f7931d2423af>\u001b[0m in \u001b[0;36m<module>\u001b[1;34m\u001b[0m\n\u001b[1;32m----> 1\u001b[1;33m \u001b[1;32mimport\u001b[0m \u001b[0mgeoplot\u001b[0m \u001b[1;32mas\u001b[0m \u001b[0mgplt\u001b[0m\u001b[1;33m\u001b[0m\u001b[1;33m\u001b[0m\u001b[0m\n\u001b[0m\u001b[0;32m      2\u001b[0m \u001b[1;32mimport\u001b[0m \u001b[0mgeopandas\u001b[0m \u001b[1;32mas\u001b[0m \u001b[0mgpd\u001b[0m\u001b[1;33m\u001b[0m\u001b[1;33m\u001b[0m\u001b[0m\n\u001b[0;32m      3\u001b[0m \u001b[1;32mimport\u001b[0m \u001b[0mgeoplot\u001b[0m\u001b[1;33m.\u001b[0m\u001b[0mcrs\u001b[0m \u001b[1;32mas\u001b[0m \u001b[0mgcrs\u001b[0m\u001b[1;33m\u001b[0m\u001b[1;33m\u001b[0m\u001b[0m\n\u001b[0;32m      4\u001b[0m \u001b[1;32mimport\u001b[0m \u001b[0mpandas\u001b[0m \u001b[1;32mas\u001b[0m \u001b[0mpd\u001b[0m\u001b[1;33m\u001b[0m\u001b[1;33m\u001b[0m\u001b[0m\n\u001b[0;32m      5\u001b[0m \u001b[1;32mimport\u001b[0m \u001b[0mmatplotlib\u001b[0m\u001b[1;33m.\u001b[0m\u001b[0mpyplot\u001b[0m \u001b[1;32mas\u001b[0m \u001b[0mplt\u001b[0m\u001b[1;33m\u001b[0m\u001b[1;33m\u001b[0m\u001b[0m\n",
      "\u001b[1;31mModuleNotFoundError\u001b[0m: No module named 'geoplot'"
     ]
    }
   ],
   "source": [
    "import geoplot as gplt\n",
    "import geopandas as gpd\n",
    "import geoplot.crs as gcrs\n",
    "import pandas as pd\n",
    "import matplotlib.pyplot as plt\n",
    "import numpy as np"
   ]
  },
  {
   "cell_type": "markdown",
   "metadata": {},
   "source": [
    "## Import shapefile provinsi di Indonesia"
   ]
  },
  {
   "cell_type": "code",
   "execution_count": 2,
   "metadata": {},
   "outputs": [
    {
     "data": {
      "text/html": [
       "<div>\n",
       "<style scoped>\n",
       "    .dataframe tbody tr th:only-of-type {\n",
       "        vertical-align: middle;\n",
       "    }\n",
       "\n",
       "    .dataframe tbody tr th {\n",
       "        vertical-align: top;\n",
       "    }\n",
       "\n",
       "    .dataframe thead th {\n",
       "        text-align: right;\n",
       "    }\n",
       "</style>\n",
       "<table border=\"1\" class=\"dataframe\">\n",
       "  <thead>\n",
       "    <tr style=\"text-align: right;\">\n",
       "      <th></th>\n",
       "      <th>NAME_0</th>\n",
       "      <th>NAME_1</th>\n",
       "      <th>KODE</th>\n",
       "      <th>geometry</th>\n",
       "    </tr>\n",
       "  </thead>\n",
       "  <tbody>\n",
       "    <tr>\n",
       "      <th>0</th>\n",
       "      <td>Indonesia</td>\n",
       "      <td>Bangka Belitung</td>\n",
       "      <td>19</td>\n",
       "      <td>MULTIPOLYGON (((107.96173 -3.41100, 107.96220 ...</td>\n",
       "    </tr>\n",
       "    <tr>\n",
       "      <th>1</th>\n",
       "      <td>Indonesia</td>\n",
       "      <td>Gorontalo</td>\n",
       "      <td>75</td>\n",
       "      <td>MULTIPOLYGON (((122.81573 0.84676, 122.81579 0...</td>\n",
       "    </tr>\n",
       "    <tr>\n",
       "      <th>2</th>\n",
       "      <td>Indonesia</td>\n",
       "      <td>Riau</td>\n",
       "      <td>14</td>\n",
       "      <td>MULTIPOLYGON (((101.64432 -0.82552, 101.64344 ...</td>\n",
       "    </tr>\n",
       "    <tr>\n",
       "      <th>3</th>\n",
       "      <td>Indonesia</td>\n",
       "      <td>Jakarta Raya</td>\n",
       "      <td>31</td>\n",
       "      <td>MULTIPOLYGON (((106.73563 -6.04014, 106.73548 ...</td>\n",
       "    </tr>\n",
       "    <tr>\n",
       "      <th>4</th>\n",
       "      <td>Indonesia</td>\n",
       "      <td>Kepulauan Riau</td>\n",
       "      <td>21</td>\n",
       "      <td>MULTIPOLYGON (((105.25355 -1.29511, 105.25032 ...</td>\n",
       "    </tr>\n",
       "  </tbody>\n",
       "</table>\n",
       "</div>"
      ],
      "text/plain": [
       "      NAME_0           NAME_1  KODE  \\\n",
       "0  Indonesia  Bangka Belitung    19   \n",
       "1  Indonesia        Gorontalo    75   \n",
       "2  Indonesia             Riau    14   \n",
       "3  Indonesia     Jakarta Raya    31   \n",
       "4  Indonesia   Kepulauan Riau    21   \n",
       "\n",
       "                                            geometry  \n",
       "0  MULTIPOLYGON (((107.96173 -3.41100, 107.96220 ...  \n",
       "1  MULTIPOLYGON (((122.81573 0.84676, 122.81579 0...  \n",
       "2  MULTIPOLYGON (((101.64432 -0.82552, 101.64344 ...  \n",
       "3  MULTIPOLYGON (((106.73563 -6.04014, 106.73548 ...  \n",
       "4  MULTIPOLYGON (((105.25355 -1.29511, 105.25032 ...  "
      ]
     },
     "execution_count": 2,
     "metadata": {},
     "output_type": "execute_result"
    }
   ],
   "source": [
    "prov = gpd.read_file(\"geospatial/SHP Indonesia/prov.shp\")\n",
    "prov.head()"
   ]
  },
  {
   "cell_type": "code",
   "execution_count": 3,
   "metadata": {},
   "outputs": [
    {
     "data": {
      "text/plain": [
       "(34, 4)"
      ]
     },
     "execution_count": 3,
     "metadata": {},
     "output_type": "execute_result"
    }
   ],
   "source": [
    "prov.shape"
   ]
  },
  {
   "cell_type": "markdown",
   "metadata": {},
   "source": [
    "## Import data covid-19 per provinsi"
   ]
  },
  {
   "cell_type": "markdown",
   "metadata": {},
   "source": [
    "### Import json file"
   ]
  },
  {
   "cell_type": "code",
   "execution_count": 4,
   "metadata": {},
   "outputs": [
    {
     "data": {
      "text/html": [
       "<div>\n",
       "<style scoped>\n",
       "    .dataframe tbody tr th:only-of-type {\n",
       "        vertical-align: middle;\n",
       "    }\n",
       "\n",
       "    .dataframe tbody tr th {\n",
       "        vertical-align: top;\n",
       "    }\n",
       "\n",
       "    .dataframe thead th {\n",
       "        text-align: right;\n",
       "    }\n",
       "</style>\n",
       "<table border=\"1\" class=\"dataframe\">\n",
       "  <thead>\n",
       "    <tr style=\"text-align: right;\">\n",
       "      <th></th>\n",
       "      <th>last_date</th>\n",
       "      <th>current_data</th>\n",
       "      <th>missing_data</th>\n",
       "      <th>tanpa_provinsi</th>\n",
       "      <th>list_data</th>\n",
       "    </tr>\n",
       "  </thead>\n",
       "  <tbody>\n",
       "    <tr>\n",
       "      <th>0</th>\n",
       "      <td>2021-12-01</td>\n",
       "      <td>100</td>\n",
       "      <td>0</td>\n",
       "      <td>0</td>\n",
       "      <td>{'key': 'DKI JAKARTA', 'doc_count': 20.2979797...</td>\n",
       "    </tr>\n",
       "    <tr>\n",
       "      <th>1</th>\n",
       "      <td>2021-12-01</td>\n",
       "      <td>100</td>\n",
       "      <td>0</td>\n",
       "      <td>0</td>\n",
       "      <td>{'key': 'JAWA BARAT', 'doc_count': 16.62923908...</td>\n",
       "    </tr>\n",
       "    <tr>\n",
       "      <th>2</th>\n",
       "      <td>2021-12-01</td>\n",
       "      <td>100</td>\n",
       "      <td>0</td>\n",
       "      <td>0</td>\n",
       "      <td>{'key': 'JAWA TENGAH', 'doc_count': 11.4269034...</td>\n",
       "    </tr>\n",
       "    <tr>\n",
       "      <th>3</th>\n",
       "      <td>2021-12-01</td>\n",
       "      <td>100</td>\n",
       "      <td>0</td>\n",
       "      <td>0</td>\n",
       "      <td>{'key': 'JAWA TIMUR', 'doc_count': 9.383942593...</td>\n",
       "    </tr>\n",
       "    <tr>\n",
       "      <th>4</th>\n",
       "      <td>2021-12-01</td>\n",
       "      <td>100</td>\n",
       "      <td>0</td>\n",
       "      <td>0</td>\n",
       "      <td>{'key': 'KALIMANTAN TIMUR', 'doc_count': 3.717...</td>\n",
       "    </tr>\n",
       "  </tbody>\n",
       "</table>\n",
       "</div>"
      ],
      "text/plain": [
       "    last_date  current_data  missing_data  tanpa_provinsi  \\\n",
       "0  2021-12-01           100             0               0   \n",
       "1  2021-12-01           100             0               0   \n",
       "2  2021-12-01           100             0               0   \n",
       "3  2021-12-01           100             0               0   \n",
       "4  2021-12-01           100             0               0   \n",
       "\n",
       "                                           list_data  \n",
       "0  {'key': 'DKI JAKARTA', 'doc_count': 20.2979797...  \n",
       "1  {'key': 'JAWA BARAT', 'doc_count': 16.62923908...  \n",
       "2  {'key': 'JAWA TENGAH', 'doc_count': 11.4269034...  \n",
       "3  {'key': 'JAWA TIMUR', 'doc_count': 9.383942593...  \n",
       "4  {'key': 'KALIMANTAN TIMUR', 'doc_count': 3.717...  "
      ]
     },
     "execution_count": 4,
     "metadata": {},
     "output_type": "execute_result"
    }
   ],
   "source": [
    "cov_data = pd.read_json('data covid provinsi.json')\n",
    "cov_data.head()"
   ]
  },
  {
   "cell_type": "code",
   "execution_count": 5,
   "metadata": {
    "scrolled": true
   },
   "outputs": [
    {
     "data": {
      "text/plain": [
       "(34, 5)"
      ]
     },
     "execution_count": 5,
     "metadata": {},
     "output_type": "execute_result"
    }
   ],
   "source": [
    "cov_data.shape"
   ]
  },
  {
   "cell_type": "markdown",
   "metadata": {},
   "source": [
    "### Ekstraksi data covid-19"
   ]
  },
  {
   "cell_type": "code",
   "execution_count": 6,
   "metadata": {},
   "outputs": [
    {
     "data": {
      "text/plain": [
       "34"
      ]
     },
     "execution_count": 6,
     "metadata": {},
     "output_type": "execute_result"
    }
   ],
   "source": [
    "data = []\n",
    "for i in range(len(cov_data)):\n",
    "    tmp = dict(cov_data['list_data'].iloc[i])\n",
    "    data.append({\n",
    "        'provinsi': str(tmp['key']).lower(),\n",
    "        'doc_count': (tmp['doc_count']),\n",
    "        'jumlah_kasus': tmp['jumlah_kasus'],\n",
    "        'jumlah_sembuh': tmp['jumlah_sembuh'],\n",
    "        'jumlah_meninggal': tmp['jumlah_meninggal'],\n",
    "        'jumlah_dirawat': tmp['jumlah_dirawat'],\n",
    "        'lon': tmp['lokasi']['lon'],\n",
    "        'lat': tmp['lokasi']['lat'],\n",
    "    })\n",
    "len(data)\n"
   ]
  },
  {
   "cell_type": "code",
   "execution_count": 7,
   "metadata": {},
   "outputs": [
    {
     "data": {
      "text/html": [
       "<div>\n",
       "<style scoped>\n",
       "    .dataframe tbody tr th:only-of-type {\n",
       "        vertical-align: middle;\n",
       "    }\n",
       "\n",
       "    .dataframe tbody tr th {\n",
       "        vertical-align: top;\n",
       "    }\n",
       "\n",
       "    .dataframe thead th {\n",
       "        text-align: right;\n",
       "    }\n",
       "</style>\n",
       "<table border=\"1\" class=\"dataframe\">\n",
       "  <thead>\n",
       "    <tr style=\"text-align: right;\">\n",
       "      <th></th>\n",
       "      <th>provinsi</th>\n",
       "      <th>doc_count</th>\n",
       "      <th>jumlah_kasus</th>\n",
       "      <th>jumlah_sembuh</th>\n",
       "      <th>jumlah_meninggal</th>\n",
       "      <th>jumlah_dirawat</th>\n",
       "      <th>lon</th>\n",
       "      <th>lat</th>\n",
       "    </tr>\n",
       "  </thead>\n",
       "  <tbody>\n",
       "    <tr>\n",
       "      <th>0</th>\n",
       "      <td>dki jakarta</td>\n",
       "      <td>20.297980</td>\n",
       "      <td>864017</td>\n",
       "      <td>849873</td>\n",
       "      <td>13596</td>\n",
       "      <td>548</td>\n",
       "      <td>106.836118</td>\n",
       "      <td>-6.204699</td>\n",
       "    </tr>\n",
       "    <tr>\n",
       "      <th>1</th>\n",
       "      <td>jawa barat</td>\n",
       "      <td>16.629239</td>\n",
       "      <td>707851</td>\n",
       "      <td>692095</td>\n",
       "      <td>14737</td>\n",
       "      <td>1019</td>\n",
       "      <td>107.603708</td>\n",
       "      <td>-6.920432</td>\n",
       "    </tr>\n",
       "    <tr>\n",
       "      <th>2</th>\n",
       "      <td>jawa tengah</td>\n",
       "      <td>11.426903</td>\n",
       "      <td>486405</td>\n",
       "      <td>454833</td>\n",
       "      <td>30224</td>\n",
       "      <td>1348</td>\n",
       "      <td>110.201115</td>\n",
       "      <td>-7.259097</td>\n",
       "    </tr>\n",
       "    <tr>\n",
       "      <th>3</th>\n",
       "      <td>jawa timur</td>\n",
       "      <td>9.383943</td>\n",
       "      <td>399443</td>\n",
       "      <td>369523</td>\n",
       "      <td>29697</td>\n",
       "      <td>223</td>\n",
       "      <td>112.732941</td>\n",
       "      <td>-7.723346</td>\n",
       "    </tr>\n",
       "    <tr>\n",
       "      <th>4</th>\n",
       "      <td>kalimantan timur</td>\n",
       "      <td>3.717417</td>\n",
       "      <td>158238</td>\n",
       "      <td>152712</td>\n",
       "      <td>5449</td>\n",
       "      <td>77</td>\n",
       "      <td>116.468440</td>\n",
       "      <td>0.453858</td>\n",
       "    </tr>\n",
       "  </tbody>\n",
       "</table>\n",
       "</div>"
      ],
      "text/plain": [
       "           provinsi  doc_count  jumlah_kasus  jumlah_sembuh  jumlah_meninggal  \\\n",
       "0       dki jakarta  20.297980        864017         849873             13596   \n",
       "1        jawa barat  16.629239        707851         692095             14737   \n",
       "2       jawa tengah  11.426903        486405         454833             30224   \n",
       "3        jawa timur   9.383943        399443         369523             29697   \n",
       "4  kalimantan timur   3.717417        158238         152712              5449   \n",
       "\n",
       "   jumlah_dirawat         lon       lat  \n",
       "0             548  106.836118 -6.204699  \n",
       "1            1019  107.603708 -6.920432  \n",
       "2            1348  110.201115 -7.259097  \n",
       "3             223  112.732941 -7.723346  \n",
       "4              77  116.468440  0.453858  "
      ]
     },
     "execution_count": 7,
     "metadata": {},
     "output_type": "execute_result"
    }
   ],
   "source": [
    "cov_df = pd.DataFrame(data)\n",
    "cov_df.head()"
   ]
  },
  {
   "cell_type": "code",
   "execution_count": 8,
   "metadata": {},
   "outputs": [
    {
     "name": "stdout",
     "output_type": "stream",
     "text": [
      "<class 'pandas.core.frame.DataFrame'>\n",
      "RangeIndex: 34 entries, 0 to 33\n",
      "Data columns (total 8 columns):\n",
      " #   Column            Non-Null Count  Dtype  \n",
      "---  ------            --------------  -----  \n",
      " 0   provinsi          34 non-null     object \n",
      " 1   doc_count         34 non-null     float64\n",
      " 2   jumlah_kasus      34 non-null     int64  \n",
      " 3   jumlah_sembuh     34 non-null     int64  \n",
      " 4   jumlah_meninggal  34 non-null     int64  \n",
      " 5   jumlah_dirawat    34 non-null     int64  \n",
      " 6   lon               34 non-null     float64\n",
      " 7   lat               34 non-null     float64\n",
      "dtypes: float64(3), int64(4), object(1)\n",
      "memory usage: 2.2+ KB\n"
     ]
    }
   ],
   "source": [
    "cov_df.info()"
   ]
  },
  {
   "cell_type": "code",
   "execution_count": 9,
   "metadata": {},
   "outputs": [
    {
     "data": {
      "text/html": [
       "<div>\n",
       "<style scoped>\n",
       "    .dataframe tbody tr th:only-of-type {\n",
       "        vertical-align: middle;\n",
       "    }\n",
       "\n",
       "    .dataframe tbody tr th {\n",
       "        vertical-align: top;\n",
       "    }\n",
       "\n",
       "    .dataframe thead th {\n",
       "        text-align: right;\n",
       "    }\n",
       "</style>\n",
       "<table border=\"1\" class=\"dataframe\">\n",
       "  <thead>\n",
       "    <tr style=\"text-align: right;\">\n",
       "      <th></th>\n",
       "      <th>doc_count</th>\n",
       "      <th>jumlah_kasus</th>\n",
       "      <th>jumlah_sembuh</th>\n",
       "      <th>jumlah_meninggal</th>\n",
       "      <th>jumlah_dirawat</th>\n",
       "      <th>lon</th>\n",
       "      <th>lat</th>\n",
       "    </tr>\n",
       "  </thead>\n",
       "  <tbody>\n",
       "    <tr>\n",
       "      <th>count</th>\n",
       "      <td>34.000000</td>\n",
       "      <td>34.000000</td>\n",
       "      <td>34.000000</td>\n",
       "      <td>34.000000</td>\n",
       "      <td>34.000000</td>\n",
       "      <td>34.000000</td>\n",
       "      <td>34.000000</td>\n",
       "    </tr>\n",
       "    <tr>\n",
       "      <th>mean</th>\n",
       "      <td>2.941176</td>\n",
       "      <td>125196.029412</td>\n",
       "      <td>120723.529412</td>\n",
       "      <td>4231.529412</td>\n",
       "      <td>240.970588</td>\n",
       "      <td>113.723129</td>\n",
       "      <td>-2.774664</td>\n",
       "    </tr>\n",
       "    <tr>\n",
       "      <th>std</th>\n",
       "      <td>4.617223</td>\n",
       "      <td>196539.733766</td>\n",
       "      <td>190893.021462</td>\n",
       "      <td>7294.724064</td>\n",
       "      <td>399.777399</td>\n",
       "      <td>10.165408</td>\n",
       "      <td>3.699775</td>\n",
       "    </tr>\n",
       "    <tr>\n",
       "      <th>min</th>\n",
       "      <td>0.278011</td>\n",
       "      <td>11834.000000</td>\n",
       "      <td>11374.000000</td>\n",
       "      <td>261.000000</td>\n",
       "      <td>0.000000</td>\n",
       "      <td>96.910522</td>\n",
       "      <td>-8.682205</td>\n",
       "    </tr>\n",
       "    <tr>\n",
       "      <th>25%</th>\n",
       "      <td>0.726155</td>\n",
       "      <td>30910.000000</td>\n",
       "      <td>29744.500000</td>\n",
       "      <td>794.500000</td>\n",
       "      <td>35.500000</td>\n",
       "      <td>106.219236</td>\n",
       "      <td>-5.882722</td>\n",
       "    </tr>\n",
       "    <tr>\n",
       "      <th>50%</th>\n",
       "      <td>1.197780</td>\n",
       "      <td>50985.500000</td>\n",
       "      <td>48121.500000</td>\n",
       "      <td>1675.000000</td>\n",
       "      <td>82.000000</td>\n",
       "      <td>113.075298</td>\n",
       "      <td>-2.727671</td>\n",
       "    </tr>\n",
       "    <tr>\n",
       "      <th>75%</th>\n",
       "      <td>2.658020</td>\n",
       "      <td>113143.000000</td>\n",
       "      <td>109408.250000</td>\n",
       "      <td>3666.500000</td>\n",
       "      <td>210.250000</td>\n",
       "      <td>120.941333</td>\n",
       "      <td>0.137409</td>\n",
       "    </tr>\n",
       "    <tr>\n",
       "      <th>max</th>\n",
       "      <td>20.297980</td>\n",
       "      <td>864017.000000</td>\n",
       "      <td>849873.000000</td>\n",
       "      <td>30224.000000</td>\n",
       "      <td>1706.000000</td>\n",
       "      <td>138.696030</td>\n",
       "      <td>4.225615</td>\n",
       "    </tr>\n",
       "  </tbody>\n",
       "</table>\n",
       "</div>"
      ],
      "text/plain": [
       "       doc_count   jumlah_kasus  jumlah_sembuh  jumlah_meninggal  \\\n",
       "count  34.000000      34.000000      34.000000         34.000000   \n",
       "mean    2.941176  125196.029412  120723.529412       4231.529412   \n",
       "std     4.617223  196539.733766  190893.021462       7294.724064   \n",
       "min     0.278011   11834.000000   11374.000000        261.000000   \n",
       "25%     0.726155   30910.000000   29744.500000        794.500000   \n",
       "50%     1.197780   50985.500000   48121.500000       1675.000000   \n",
       "75%     2.658020  113143.000000  109408.250000       3666.500000   \n",
       "max    20.297980  864017.000000  849873.000000      30224.000000   \n",
       "\n",
       "       jumlah_dirawat         lon        lat  \n",
       "count       34.000000   34.000000  34.000000  \n",
       "mean       240.970588  113.723129  -2.774664  \n",
       "std        399.777399   10.165408   3.699775  \n",
       "min          0.000000   96.910522  -8.682205  \n",
       "25%         35.500000  106.219236  -5.882722  \n",
       "50%         82.000000  113.075298  -2.727671  \n",
       "75%        210.250000  120.941333   0.137409  \n",
       "max       1706.000000  138.696030   4.225615  "
      ]
     },
     "execution_count": 9,
     "metadata": {},
     "output_type": "execute_result"
    }
   ],
   "source": [
    "cov_df.describe()"
   ]
  },
  {
   "cell_type": "markdown",
   "metadata": {},
   "source": [
    "## Gabung data covid dengan shapefile provinsi"
   ]
  },
  {
   "cell_type": "markdown",
   "metadata": {},
   "source": [
    "### Preprocessing data sebelum merge"
   ]
  },
  {
   "cell_type": "code",
   "execution_count": 10,
   "metadata": {
    "scrolled": true
   },
   "outputs": [],
   "source": [
    "# convert jd lowercase\n",
    "prov['NAME_1'] = prov['NAME_1'].str.lower()"
   ]
  },
  {
   "cell_type": "code",
   "execution_count": 11,
   "metadata": {},
   "outputs": [
    {
     "data": {
      "text/plain": [
       "34"
      ]
     },
     "execution_count": 11,
     "metadata": {},
     "output_type": "execute_result"
    }
   ],
   "source": [
    "# list nama provinsi di shp\n",
    "list1 = list(prov['NAME_1'].unique())\n",
    "len(list1)"
   ]
  },
  {
   "cell_type": "code",
   "execution_count": 12,
   "metadata": {},
   "outputs": [
    {
     "data": {
      "text/plain": [
       "34"
      ]
     },
     "execution_count": 12,
     "metadata": {},
     "output_type": "execute_result"
    }
   ],
   "source": [
    "# list nama provinsi di dataset covid\n",
    "list2 = list(cov_df['provinsi'].unique())\n",
    "len(list2)"
   ]
  },
  {
   "cell_type": "code",
   "execution_count": 13,
   "metadata": {},
   "outputs": [
    {
     "name": "stdout",
     "output_type": "stream",
     "text": [
      "list2[i] dki jakarta\n",
      "list2[i] daerah istimewa yogyakarta\n",
      "list2[i] kepulauan bangka belitung\n"
     ]
    }
   ],
   "source": [
    "# mencari perbedaan penamaan provinsi\n",
    "for i in range(34):\n",
    "    if list2[i] not in list1:\n",
    "        print('list2[i]', list2[i])"
   ]
  },
  {
   "cell_type": "code",
   "execution_count": 14,
   "metadata": {},
   "outputs": [],
   "source": [
    "# replace nama provinsi yang berbeda\n",
    "prov['NAME_1'].replace({\n",
    "    'bangka belitung': 'kepulauan bangka belitung', \n",
    "    'jakarta raya': 'dki jakarta', \n",
    "    'yogyakarta': 'daerah istimewa yogyakarta'}, \n",
    "    inplace=True)"
   ]
  },
  {
   "cell_type": "code",
   "execution_count": 15,
   "metadata": {
    "scrolled": true
   },
   "outputs": [
    {
     "data": {
      "text/html": [
       "<div>\n",
       "<style scoped>\n",
       "    .dataframe tbody tr th:only-of-type {\n",
       "        vertical-align: middle;\n",
       "    }\n",
       "\n",
       "    .dataframe tbody tr th {\n",
       "        vertical-align: top;\n",
       "    }\n",
       "\n",
       "    .dataframe thead th {\n",
       "        text-align: right;\n",
       "    }\n",
       "</style>\n",
       "<table border=\"1\" class=\"dataframe\">\n",
       "  <thead>\n",
       "    <tr style=\"text-align: right;\">\n",
       "      <th></th>\n",
       "      <th>geometry</th>\n",
       "      <th>provinsi</th>\n",
       "      <th>jumlah_kasus</th>\n",
       "      <th>lon</th>\n",
       "      <th>lat</th>\n",
       "    </tr>\n",
       "  </thead>\n",
       "  <tbody>\n",
       "    <tr>\n",
       "      <th>0</th>\n",
       "      <td>MULTIPOLYGON (((107.96173 -3.41100, 107.96220 ...</td>\n",
       "      <td>kepulauan bangka belitung</td>\n",
       "      <td>52282</td>\n",
       "      <td>106.549932</td>\n",
       "      <td>-2.447444</td>\n",
       "    </tr>\n",
       "    <tr>\n",
       "      <th>1</th>\n",
       "      <td>MULTIPOLYGON (((122.81573 0.84676, 122.81579 0...</td>\n",
       "      <td>gorontalo</td>\n",
       "      <td>11834</td>\n",
       "      <td>122.376058</td>\n",
       "      <td>0.687003</td>\n",
       "    </tr>\n",
       "    <tr>\n",
       "      <th>2</th>\n",
       "      <td>MULTIPOLYGON (((101.64432 -0.82552, 101.64344 ...</td>\n",
       "      <td>riau</td>\n",
       "      <td>128821</td>\n",
       "      <td>101.805109</td>\n",
       "      <td>0.511648</td>\n",
       "    </tr>\n",
       "    <tr>\n",
       "      <th>3</th>\n",
       "      <td>MULTIPOLYGON (((106.73563 -6.04014, 106.73548 ...</td>\n",
       "      <td>dki jakarta</td>\n",
       "      <td>864017</td>\n",
       "      <td>106.836118</td>\n",
       "      <td>-6.204699</td>\n",
       "    </tr>\n",
       "    <tr>\n",
       "      <th>4</th>\n",
       "      <td>MULTIPOLYGON (((105.25355 -1.29511, 105.25032 ...</td>\n",
       "      <td>kepulauan riau</td>\n",
       "      <td>53884</td>\n",
       "      <td>108.261746</td>\n",
       "      <td>3.916346</td>\n",
       "    </tr>\n",
       "  </tbody>\n",
       "</table>\n",
       "</div>"
      ],
      "text/plain": [
       "                                            geometry  \\\n",
       "0  MULTIPOLYGON (((107.96173 -3.41100, 107.96220 ...   \n",
       "1  MULTIPOLYGON (((122.81573 0.84676, 122.81579 0...   \n",
       "2  MULTIPOLYGON (((101.64432 -0.82552, 101.64344 ...   \n",
       "3  MULTIPOLYGON (((106.73563 -6.04014, 106.73548 ...   \n",
       "4  MULTIPOLYGON (((105.25355 -1.29511, 105.25032 ...   \n",
       "\n",
       "                    provinsi  jumlah_kasus         lon       lat  \n",
       "0  kepulauan bangka belitung         52282  106.549932 -2.447444  \n",
       "1                  gorontalo         11834  122.376058  0.687003  \n",
       "2                       riau        128821  101.805109  0.511648  \n",
       "3                dki jakarta        864017  106.836118 -6.204699  \n",
       "4             kepulauan riau         53884  108.261746  3.916346  "
      ]
     },
     "execution_count": 15,
     "metadata": {},
     "output_type": "execute_result"
    }
   ],
   "source": [
    "# merge dataset shp dengan dataset covid\n",
    "covid_prov = prov.merge(cov_df, left_on=\"NAME_1\", right_on=\"provinsi\")\n",
    "covid_prov.drop(['NAME_0', 'NAME_1', 'KODE','doc_count', 'jumlah_sembuh', 'jumlah_meninggal', 'jumlah_dirawat'], axis=1, inplace=True)\n",
    "covid_prov.head()"
   ]
  },
  {
   "cell_type": "markdown",
   "metadata": {},
   "source": [
    "## Visualisasi Geospatial"
   ]
  },
  {
   "cell_type": "code",
   "execution_count": 16,
   "metadata": {},
   "outputs": [
    {
     "name": "stderr",
     "output_type": "stream",
     "text": [
      "E:\\Program Files\\Anaconda3\\envs\\geo_env\\lib\\site-packages\\geoplot\\geoplot.py:903: ShapelyDeprecationWarning: Iteration over multi-part geometries is deprecated and will be removed in Shapely 2.0. Use the `geoms` property to access the constituent parts of a multi-part geometry.\n",
      "  for subgeom in geom:\n",
      "E:\\Program Files\\Anaconda3\\envs\\geo_env\\lib\\site-packages\\geoplot\\geoplot.py:1004: ShapelyDeprecationWarning: Iteration over multi-part geometries is deprecated and will be removed in Shapely 2.0. Use the `geoms` property to access the constituent parts of a multi-part geometry.\n",
      "  for subgeom in geom:\n"
     ]
    },
    {
     "data": {
      "text/plain": [
       "<AxesSubplot:>"
      ]
     },
     "execution_count": 16,
     "metadata": {},
     "output_type": "execute_result"
    },
    {
     "data": {
      "image/png": "[encoded data removed]",
      "text/plain": [
       "<Figure size 1152x864 with 1 Axes>"
      ]
     },
     "metadata": {
      "needs_background": "light"
     },
     "output_type": "display_data"
    }
   ],
   "source": [
    "ax1 = gplt.polyplot(covid_prov, figsize=(16,12))\n",
    "gplt.choropleth(\n",
    "    covid_prov, \n",
    "    ax=ax1, \n",
    "    hue=\"jumlah_kasus\",\n",
    "    edgecolor=\"white\",\n",
    "    linewidth=1,\n",
    "    cmap=\"OrRd\",\n",
    "    legend=True,\n",
    "    scheme=\"FisherJenks\"\n",
    ")"
   ]
  },
  {
   "cell_type": "code",
   "execution_count": null,
   "metadata": {},
   "outputs": [],
   "source": []
  }
 ],
 "metadata": {
  "kernelspec": {
   "display_name": "Python 3",
   "language": "python",
   "name": "python3"
  },
  "language_info": {
   "codemirror_mode": {
    "name": "ipython",
    "version": 3
   },
   "file_extension": ".py",
   "mimetype": "text/x-python",
   "name": "python",
   "nbconvert_exporter": "python",
   "pygments_lexer": "ipython3",
   "version": "3.8.3"
  }
 },
 "nbformat": 4,
 "nbformat_minor": 5
}
